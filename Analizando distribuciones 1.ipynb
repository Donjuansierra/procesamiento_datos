{
 "cells": [
  {
   "cell_type": "code",
   "execution_count": 1,
   "id": "9dbdbc53",
   "metadata": {},
   "outputs": [],
   "source": [
    "# se importan las librerias\n",
    "\n",
    "import numpy as np\n",
    "import matplotlib.pyplot as plt\n",
    "import pandas as pd"
   ]
  },
  {
   "cell_type": "markdown",
   "id": "df55efa4",
   "metadata": {},
   "source": [
    "# Grafica de la distribución de edades con un histograma"
   ]
  },
  {
   "cell_type": "code",
   "execution_count": 2,
   "id": "838e9fc8",
   "metadata": {},
   "outputs": [
    {
     "data": {
      "image/png": "[encoded data removed]",
      "text/plain": [
       "<Figure size 432x288 with 1 Axes>"
      ]
     },
     "metadata": {
      "needs_background": "light"
     },
     "output_type": "display_data"
    }
   ],
   "source": [
    "# Se carga el dataframe\n",
    "\n",
    "df = pd.read_csv('heart_failure_clear.csv')\n",
    "\n",
    "# Se grafica histograma por edad donde podemos osbervar la cantidad de pacientes y su edad\n",
    "Edades = df['age']\n",
    "# aunque al calcular el bins con la raiz cuadrada de la materia nos da 9 con 10 nos da la grafica solicitada\n",
    "plt.hist(Edades, bins=10,edgecolor='black')\n",
    "plt.title('Distribucion de Edades')\n",
    "plt.xlabel('Edades')\n",
    "plt.ylabel('Cantidad de personas')\n",
    "\n",
    "plt.show()"
   ]
  },
  {
   "cell_type": "markdown",
   "id": "7a665f4b",
   "metadata": {},
   "source": [
    "# Grafica histogramas agrupado por hombre y mujer"
   ]
  },
  {
   "cell_type": "code",
   "execution_count": 3,
   "id": "9e4b859a",
   "metadata": {},
   "outputs": [
    {
     "name": "stdout",
     "output_type": "stream",
     "text": [
      "sex\n",
      "0.000000    43.000000\n",
      "0.648829     0.431438\n",
      "1.000000    62.000000\n",
      "Name: anaemia, dtype: float64\n",
      "sex\n",
      "0.000000    41.00000\n",
      "0.648829     0.41806\n",
      "1.000000    53.00000\n",
      "Name: diabetes, dtype: float64\n",
      "sex\n",
      "0.000000     2.00000\n",
      "0.648829     0.32107\n",
      "1.000000    70.00000\n",
      "Name: smoking, dtype: float64\n",
      "sex\n",
      "0.000000    20.00000\n",
      "0.648829     0.32107\n",
      "1.000000    41.00000\n",
      "Name: DEATH_EVENT, dtype: float64\n"
     ]
    },
    {
     "data": {
      "image/png": "[encoded data removed]",
      "text/plain": [
       "<Figure size 432x288 with 1 Axes>"
      ]
     },
     "metadata": {
      "needs_background": "light"
     },
     "output_type": "display_data"
    }
   ],
   "source": [
    "# Definir los datos de los hombre y mujeres que son anemmicos, diabeticos, fumadores y muertos\n",
    "df_anaemia = df.groupby(\"sex\")[\"anaemia\"].sum()\n",
    "df_diabetes = df.groupby(\"sex\")[\"diabetes\"].sum()\n",
    "df_smoking = df.groupby(\"sex\")[\"smoking\"].sum()\n",
    "df_dead = df.groupby(\"sex\")[\"DEATH_EVENT\"].sum()\n",
    "\n",
    "print(df_anaemia)\n",
    "print(df_diabetes)\n",
    "print(df_smoking)\n",
    "print(df_dead)\n",
    "df_total_hom= [df_anaemia[1],df_diabetes[1],df_smoking[1], df_dead[1]]\n",
    "df_total_muje = [df_anaemia[0],df_diabetes[0],df_smoking[0], df_dead[0]]\n",
    "\n",
    "## Definir las etiquetas del eje x\n",
    "etiquetas = [\"Anemicos\", \"Diabéticos\", \"Fumadores\", \"Muertos\"]\n",
    "\n",
    "# # Definir el ancho de las barras\n",
    "ancho = 0.4\n",
    "\n",
    "# # Crear el gráfico de barras\n",
    "plt.bar(etiquetas, df_total_hom, width=-ancho, align='edge', label='Hombres')\n",
    "plt.bar(etiquetas, df_total_muje,width=ancho, align='edge', label='Mujeres')\n",
    "\n",
    "\n",
    "# # Añadir la leyenda\n",
    "plt.legend()\n",
    "plt.title('Histograma Agrupado por Sexo')\n",
    "plt.xlabel('Categorias')\n",
    "plt.ylabel('Cantidad')\n",
    "\n",
    "# # Mostrar el gráfico\n",
    "plt.show()"
   ]
  }
 ],
 "metadata": {
  "kernelspec": {
   "display_name": "Python 3 (ipykernel)",
   "language": "python",
   "name": "python3"
  },
  "language_info": {
   "codemirror_mode": {
    "name": "ipython",
    "version": 3
   },
   "file_extension": ".py",
   "mimetype": "text/x-python",
   "name": "python",
   "nbconvert_exporter": "python",
   "pygments_lexer": "ipython3",
   "version": "3.9.7"
  }
 },
 "nbformat": 4,
 "nbformat_minor": 5
}
