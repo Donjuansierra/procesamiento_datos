{
 "cells": [
  {
   "cell_type": "code",
   "execution_count": 3,
   "id": "2a2bc5a0",
   "metadata": {},
   "outputs": [],
   "source": [
    "# se importan las librerias\n",
    "\n",
    "import pandas as pd\n",
    "import numpy as np\n",
    "from sklearn.linear_model import LinearRegression\n",
    "from sklearn.metrics import mean_squared_error"
   ]
  },
  {
   "cell_type": "code",
   "execution_count": 4,
   "id": "6225d386",
   "metadata": {},
   "outputs": [],
   "source": [
    "# se realiza el cargue de los datos en un dataframe\n",
    "\n",
    "data = pd.read_csv('heart_failure_clear.csv')"
   ]
  },
  {
   "cell_type": "code",
   "execution_count": 22,
   "id": "0667123e",
   "metadata": {},
   "outputs": [
    {
     "name": "stdout",
     "output_type": "stream",
     "text": [
      "225\n",
      "225\n"
     ]
    }
   ],
   "source": [
    "# se definen las variables\n",
    "\n",
    "Z= data\n",
    "Z= (Z.drop(['DEATH_EVENT', 'age', 'age_group'], axis = 1)) # se eliminan las columnas evento de muerte, edad, grupo etario \n",
    "X= Z[['anaemia','diabetes','ejection_fraction','high_blood_pressure','platelets','serum_creatinine','sex','smoking']]\n",
    "y = data['age']\n",
    "\n",
    "d = np.corrcoef(X)\n",
    "print(len(X))\n",
    "print(len(y))"
   ]
  },
  {
   "cell_type": "code",
   "execution_count": 24,
   "id": "c5e6120d",
   "metadata": {},
   "outputs": [
    {
     "data": {
      "text/plain": [
       "LinearRegression()"
      ]
     },
     "execution_count": 24,
     "metadata": {},
     "output_type": "execute_result"
    }
   ],
   "source": [
    "# se crea una instancia del modelo de regresión\n",
    "\n",
    "regression = LinearRegression()\n",
    "\n",
    "# Ajustar el modelo a los datos\n",
    "regression.fit(X, y)"
   ]
  },
  {
   "cell_type": "code",
   "execution_count": 34,
   "id": "b4adc0f8",
   "metadata": {},
   "outputs": [
    {
     "name": "stdout",
     "output_type": "stream",
     "text": [
      "Predicciones: [68.16993886 60.66494319 67.17360466 76.89452913 60.02339549 67.40260597\n",
      " 58.60431742 61.03213085 63.04951607 58.04848439 57.59808914 53.17861491\n",
      " 60.88968517 63.55792249 66.27084189 60.86611216 55.37125659 68.12284271\n",
      " 69.44206607 63.98595388 64.58024186 59.2801649  69.11554403 59.80476776\n",
      " 58.18478942 62.96777573 60.20278685 62.08327141 68.2059376  63.86117595\n",
      " 65.32635955 62.39724196 63.7351457  66.38020152 55.2126652  61.99716214\n",
      " 61.22185999 61.51273764 56.17227097 58.85025087 61.28987691 58.95855806\n",
      " 54.53016082 58.69747744 57.29927475 58.18338379 54.03867151 58.12580121\n",
      " 64.47543501 57.55044906 54.44840925 61.89857946 59.32044335 56.9637776\n",
      " 59.78513671 65.2512699  62.00644321 74.83710403 58.58371074 53.03739519\n",
      " 63.14296505 61.43485961 57.11964878 62.848539   56.11825735 56.67826808\n",
      " 62.99316626 65.67249692 55.30392627 66.39447736 62.66370971 63.64487831\n",
      " 60.55271354 60.13294634 57.17906877 63.87822929 59.41106675 61.80462218\n",
      " 58.47097629 62.96717532 60.58966439 61.2652122  64.09245774 62.43628858\n",
      " 61.15013469 61.16858928 64.73508664 66.98375969 73.04927891 63.25386898\n",
      " 54.31062103 62.61717832 64.71612657 58.30932851 56.8369606  63.34883582\n",
      " 67.75740332 59.66166101 61.88024965 68.41238162 56.82204708 58.44347412\n",
      " 55.74203744 52.85930204 62.221723   67.48303078 53.41158984 54.32444387\n",
      " 67.63704665 62.31049511 63.00526406 60.19879276 64.90696366 62.77551939\n",
      " 56.12541249 64.51137588 63.2954603  65.14163665 58.47212598 64.69119067\n",
      " 58.91948675 56.66235501 57.46547153 63.65942178 69.14930888 55.06989715\n",
      " 58.54636079 61.50641205 63.30306353 63.24070433 54.70871803 53.11097836\n",
      " 57.23739981 57.27182866 60.61854081 59.69738644 56.95503916 62.82104699\n",
      " 60.71700853 66.62904675 67.16449249 54.6018912  61.21562361 67.40348076\n",
      " 69.65062834 61.97014599 54.12372169 58.24894022 60.91777248 63.83674006\n",
      " 56.14882939 57.08697364 57.69774409 57.64136558 57.09931191 54.84923589\n",
      " 65.19768976 67.27878487 58.91002791 64.84571877 59.91071152 58.16709071\n",
      " 54.00383557 63.96112634 62.41616482 58.24965889 55.56205087 64.3927379\n",
      " 62.32571831 57.61285002 60.27078572 57.26790584 62.78852068 60.93508591\n",
      " 62.43043447 64.03316987 60.06304051 58.31166208 62.63633924 59.48493682\n",
      " 58.93954026 62.39288313 65.31795351 61.83113406 56.92807808 59.82947872\n",
      " 54.35858168 61.62988379 62.25445622 65.55088556 59.30495757 64.92338021\n",
      " 59.87838785 53.9354761  55.70156155 58.76357875 55.47708619 61.42096127\n",
      " 62.33225287 60.72317276 56.03342479 64.76154906 68.07471632 54.60827002\n",
      " 56.56024301 66.06619855 56.45758308 60.7425671  55.61989662 59.3598428\n",
      " 55.70369769 57.01262278 53.83281617 56.44701483 58.8397577  64.50255298\n",
      " 57.15313461 55.40659801 57.61846078 63.86921942 54.78112682 58.44386283\n",
      " 63.67919794 63.50462754 63.50623073]\n",
      "Edad: 0      75.000000\n",
      "1      65.000000\n",
      "2      50.000000\n",
      "3      90.000000\n",
      "4      75.000000\n",
      "         ...    \n",
      "220    52.000000\n",
      "221    63.000000\n",
      "222    62.000000\n",
      "223    50.000000\n",
      "224    60.833893\n",
      "Name: age, Length: 225, dtype: float64\n"
     ]
    }
   ],
   "source": [
    "# Se realiza predicción \n",
    "y_pred = regression.predict(X)\n",
    "print(\"Predicciones:\", y_pred) # predicción de edades\n",
    "print(\"Edad:\", y)              # edades reales"
   ]
  },
  {
   "cell_type": "code",
   "execution_count": 35,
   "id": "46eacedf",
   "metadata": {},
   "outputs": [
    {
     "name": "stdout",
     "output_type": "stream",
     "text": [
      "Error cuadrático medio (MSE): 122.95794765083113\n",
      "Coeficiente de determinación (R²): 0.13067323152429455\n"
     ]
    }
   ],
   "source": [
    "# evaluación de resultados\n",
    "\n",
    "mse = mean_squared_error(y, y_pred)\n",
    "print(\"Error cuadrático medio (MSE):\", mse)\n",
    "\n",
    "r_squared = regression.score(X, y)\n",
    "print(\"Coeficiente de determinación (R²):\", r_squared)"
   ]
  },
  {
   "cell_type": "markdown",
   "id": "bdf58a51",
   "metadata": {},
   "source": [
    "# Analisis de resultados\n",
    "\n",
    "Al comparar los resultados de la edades obtenidas mediante la regresión se evidencia que estas son difierentes de las edades reales. Por otra parte el MSE nos indica cuanto estan desviados de forma cuadratica los datos predichos respecto a los datos reales y el R² nos indica que tanto explican las variables independientes a la variable dependiente para este caso el valor de R² es 0.13 lo cual no es bueno dado que un valor aceptable para R² iniciaria desde 0.8 , por lo ane"
   ]
  }
 ],
 "metadata": {
  "kernelspec": {
   "display_name": "Python 3 (ipykernel)",
   "language": "python",
   "name": "python3"
  },
  "language_info": {
   "codemirror_mode": {
    "name": "ipython",
    "version": 3
   },
   "file_extension": ".py",
   "mimetype": "text/x-python",
   "name": "python",
   "nbconvert_exporter": "python",
   "pygments_lexer": "ipython3",
   "version": "3.9.7"
  }
 },
 "nbformat": 4,
 "nbformat_minor": 5
}
